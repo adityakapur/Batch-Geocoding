{
 "cells": [
  {
   "cell_type": "markdown",
   "id": "bb7bf55c",
   "metadata": {},
   "source": [
    "# Reading the addresses csv/txt file"
   ]
  },
  {
   "cell_type": "code",
   "execution_count": 1,
   "id": "7fb93e43",
   "metadata": {},
   "outputs": [],
   "source": [
    "import pandas as pd\n",
    "fp = r\"C:\\Aditya\\address2.csv\"\n",
    "encoding = 'latin1'\n",
    "data = pd.read_csv(fp,encoding=encoding)"
   ]
  },
  {
   "cell_type": "code",
   "execution_count": 2,
   "id": "14e931e6",
   "metadata": {},
   "outputs": [
    {
     "data": {
      "text/plain": [
       "5"
      ]
     },
     "execution_count": 2,
     "metadata": {},
     "output_type": "execute_result"
    }
   ],
   "source": [
    "len(data)"
   ]
  },
  {
   "cell_type": "code",
   "execution_count": 3,
   "id": "37c5485d",
   "metadata": {},
   "outputs": [
    {
     "data": {
      "text/html": [
       "<div>\n",
       "<style scoped>\n",
       "    .dataframe tbody tr th:only-of-type {\n",
       "        vertical-align: middle;\n",
       "    }\n",
       "\n",
       "    .dataframe tbody tr th {\n",
       "        vertical-align: top;\n",
       "    }\n",
       "\n",
       "    .dataframe thead th {\n",
       "        text-align: right;\n",
       "    }\n",
       "</style>\n",
       "<table border=\"1\" class=\"dataframe\">\n",
       "  <thead>\n",
       "    <tr style=\"text-align: right;\">\n",
       "      <th></th>\n",
       "      <th>id</th>\n",
       "      <th>addr</th>\n",
       "    </tr>\n",
       "  </thead>\n",
       "  <tbody>\n",
       "    <tr>\n",
       "      <th>0</th>\n",
       "      <td>1000</td>\n",
       "      <td>Itämerenkatu 14, 00101 Helsinki, Finland</td>\n",
       "    </tr>\n",
       "    <tr>\n",
       "      <th>1</th>\n",
       "      <td>1001</td>\n",
       "      <td>Kampinkuja 1, 00100 Helsinki, Finland</td>\n",
       "    </tr>\n",
       "    <tr>\n",
       "      <th>2</th>\n",
       "      <td>1002</td>\n",
       "      <td>Kaivokatu 8, 00101 Helsinki, Finland</td>\n",
       "    </tr>\n",
       "    <tr>\n",
       "      <th>3</th>\n",
       "      <td>1003</td>\n",
       "      <td>Hermannin rantatie 1, 00580 Helsinki, Finland</td>\n",
       "    </tr>\n",
       "    <tr>\n",
       "      <th>4</th>\n",
       "      <td>1005</td>\n",
       "      <td>Tyynenmerenkatu 9, 00220 Helsinki, Finland</td>\n",
       "    </tr>\n",
       "  </tbody>\n",
       "</table>\n",
       "</div>"
      ],
      "text/plain": [
       "     id                                           addr\n",
       "0  1000       Itämerenkatu 14, 00101 Helsinki, Finland\n",
       "1  1001          Kampinkuja 1, 00100 Helsinki, Finland\n",
       "2  1002           Kaivokatu 8, 00101 Helsinki, Finland\n",
       "3  1003  Hermannin rantatie 1, 00580 Helsinki, Finland\n",
       "4  1005     Tyynenmerenkatu 9, 00220 Helsinki, Finland"
      ]
     },
     "execution_count": 3,
     "metadata": {},
     "output_type": "execute_result"
    }
   ],
   "source": [
    "data"
   ]
  },
  {
   "cell_type": "code",
   "execution_count": 4,
   "id": "043414d7",
   "metadata": {},
   "outputs": [],
   "source": [
    "from geopandas.tools import geocode\n"
   ]
  },
  {
   "cell_type": "code",
   "execution_count": 5,
   "id": "68b81b67",
   "metadata": {},
   "outputs": [],
   "source": [
    "geocoded_addresses= geocode(data[\"addr\"], provider = \"nominatim\", user_agent=\"autogis_AK\")"
   ]
  },
  {
   "cell_type": "code",
   "execution_count": 6,
   "id": "53045ac2",
   "metadata": {},
   "outputs": [
    {
     "data": {
      "text/html": [
       "<div>\n",
       "<style scoped>\n",
       "    .dataframe tbody tr th:only-of-type {\n",
       "        vertical-align: middle;\n",
       "    }\n",
       "\n",
       "    .dataframe tbody tr th {\n",
       "        vertical-align: top;\n",
       "    }\n",
       "\n",
       "    .dataframe thead th {\n",
       "        text-align: right;\n",
       "    }\n",
       "</style>\n",
       "<table border=\"1\" class=\"dataframe\">\n",
       "  <thead>\n",
       "    <tr style=\"text-align: right;\">\n",
       "      <th></th>\n",
       "      <th>geometry</th>\n",
       "      <th>address</th>\n",
       "    </tr>\n",
       "  </thead>\n",
       "  <tbody>\n",
       "    <tr>\n",
       "      <th>0</th>\n",
       "      <td>POINT (24.91556 60.16320)</td>\n",
       "      <td>Ruoholahti, 14, Itämerenkatu, Ruoholahti, Läns...</td>\n",
       "    </tr>\n",
       "    <tr>\n",
       "      <th>1</th>\n",
       "      <td>POINT (24.93009 60.16846)</td>\n",
       "      <td>1, Kampinkuja, Kamppi, Eteläinen suurpiiri, He...</td>\n",
       "    </tr>\n",
       "    <tr>\n",
       "      <th>2</th>\n",
       "      <td>POINT (24.94179 60.16989)</td>\n",
       "      <td>Kauppakeskus Citycenter, 8, Kaivokatu, Keskust...</td>\n",
       "    </tr>\n",
       "    <tr>\n",
       "      <th>3</th>\n",
       "      <td>POINT (24.97393 60.19569)</td>\n",
       "      <td>Hermannin rantatie, Hermanninranta, Hermanni, ...</td>\n",
       "    </tr>\n",
       "    <tr>\n",
       "      <th>4</th>\n",
       "      <td>POINT (24.92169 60.15667)</td>\n",
       "      <td>9, Tyynenmerenkatu, Jätkäsaari, Länsisatama, E...</td>\n",
       "    </tr>\n",
       "  </tbody>\n",
       "</table>\n",
       "</div>"
      ],
      "text/plain": [
       "                    geometry  \\\n",
       "0  POINT (24.91556 60.16320)   \n",
       "1  POINT (24.93009 60.16846)   \n",
       "2  POINT (24.94179 60.16989)   \n",
       "3  POINT (24.97393 60.19569)   \n",
       "4  POINT (24.92169 60.15667)   \n",
       "\n",
       "                                             address  \n",
       "0  Ruoholahti, 14, Itämerenkatu, Ruoholahti, Läns...  \n",
       "1  1, Kampinkuja, Kamppi, Eteläinen suurpiiri, He...  \n",
       "2  Kauppakeskus Citycenter, 8, Kaivokatu, Keskust...  \n",
       "3  Hermannin rantatie, Hermanninranta, Hermanni, ...  \n",
       "4  9, Tyynenmerenkatu, Jätkäsaari, Länsisatama, E...  "
      ]
     },
     "execution_count": 6,
     "metadata": {},
     "output_type": "execute_result"
    }
   ],
   "source": [
    "geocoded_addresses"
   ]
  },
  {
   "cell_type": "markdown",
   "id": "a8863396",
   "metadata": {},
   "source": [
    "# Joining the geocded addresses with ID"
   ]
  },
  {
   "cell_type": "code",
   "execution_count": 7,
   "id": "1ef9e70e",
   "metadata": {},
   "outputs": [],
   "source": [
    "geocoded_addresses_with_id = geocoded_addresses.join(data)"
   ]
  },
  {
   "cell_type": "code",
   "execution_count": 8,
   "id": "4be087e3",
   "metadata": {
    "scrolled": true
   },
   "outputs": [
    {
     "data": {
      "text/html": [
       "<div>\n",
       "<style scoped>\n",
       "    .dataframe tbody tr th:only-of-type {\n",
       "        vertical-align: middle;\n",
       "    }\n",
       "\n",
       "    .dataframe tbody tr th {\n",
       "        vertical-align: top;\n",
       "    }\n",
       "\n",
       "    .dataframe thead th {\n",
       "        text-align: right;\n",
       "    }\n",
       "</style>\n",
       "<table border=\"1\" class=\"dataframe\">\n",
       "  <thead>\n",
       "    <tr style=\"text-align: right;\">\n",
       "      <th></th>\n",
       "      <th>geometry</th>\n",
       "      <th>address</th>\n",
       "      <th>id</th>\n",
       "      <th>addr</th>\n",
       "    </tr>\n",
       "  </thead>\n",
       "  <tbody>\n",
       "    <tr>\n",
       "      <th>0</th>\n",
       "      <td>POINT (24.91556 60.16320)</td>\n",
       "      <td>Ruoholahti, 14, Itämerenkatu, Ruoholahti, Läns...</td>\n",
       "      <td>1000</td>\n",
       "      <td>Itämerenkatu 14, 00101 Helsinki, Finland</td>\n",
       "    </tr>\n",
       "    <tr>\n",
       "      <th>1</th>\n",
       "      <td>POINT (24.93009 60.16846)</td>\n",
       "      <td>1, Kampinkuja, Kamppi, Eteläinen suurpiiri, He...</td>\n",
       "      <td>1001</td>\n",
       "      <td>Kampinkuja 1, 00100 Helsinki, Finland</td>\n",
       "    </tr>\n",
       "    <tr>\n",
       "      <th>2</th>\n",
       "      <td>POINT (24.94179 60.16989)</td>\n",
       "      <td>Kauppakeskus Citycenter, 8, Kaivokatu, Keskust...</td>\n",
       "      <td>1002</td>\n",
       "      <td>Kaivokatu 8, 00101 Helsinki, Finland</td>\n",
       "    </tr>\n",
       "    <tr>\n",
       "      <th>3</th>\n",
       "      <td>POINT (24.97393 60.19569)</td>\n",
       "      <td>Hermannin rantatie, Hermanninranta, Hermanni, ...</td>\n",
       "      <td>1003</td>\n",
       "      <td>Hermannin rantatie 1, 00580 Helsinki, Finland</td>\n",
       "    </tr>\n",
       "    <tr>\n",
       "      <th>4</th>\n",
       "      <td>POINT (24.92169 60.15667)</td>\n",
       "      <td>9, Tyynenmerenkatu, Jätkäsaari, Länsisatama, E...</td>\n",
       "      <td>1005</td>\n",
       "      <td>Tyynenmerenkatu 9, 00220 Helsinki, Finland</td>\n",
       "    </tr>\n",
       "  </tbody>\n",
       "</table>\n",
       "</div>"
      ],
      "text/plain": [
       "                    geometry  \\\n",
       "0  POINT (24.91556 60.16320)   \n",
       "1  POINT (24.93009 60.16846)   \n",
       "2  POINT (24.94179 60.16989)   \n",
       "3  POINT (24.97393 60.19569)   \n",
       "4  POINT (24.92169 60.15667)   \n",
       "\n",
       "                                             address    id  \\\n",
       "0  Ruoholahti, 14, Itämerenkatu, Ruoholahti, Läns...  1000   \n",
       "1  1, Kampinkuja, Kamppi, Eteläinen suurpiiri, He...  1001   \n",
       "2  Kauppakeskus Citycenter, 8, Kaivokatu, Keskust...  1002   \n",
       "3  Hermannin rantatie, Hermanninranta, Hermanni, ...  1003   \n",
       "4  9, Tyynenmerenkatu, Jätkäsaari, Länsisatama, E...  1005   \n",
       "\n",
       "                                            addr  \n",
       "0       Itämerenkatu 14, 00101 Helsinki, Finland  \n",
       "1          Kampinkuja 1, 00100 Helsinki, Finland  \n",
       "2           Kaivokatu 8, 00101 Helsinki, Finland  \n",
       "3  Hermannin rantatie 1, 00580 Helsinki, Finland  \n",
       "4     Tyynenmerenkatu 9, 00220 Helsinki, Finland  "
      ]
     },
     "execution_count": 8,
     "metadata": {},
     "output_type": "execute_result"
    }
   ],
   "source": [
    "geocoded_addresses_with_id"
   ]
  },
  {
   "cell_type": "markdown",
   "id": "351998f2",
   "metadata": {},
   "source": [
    "# Geocoding the NZ iCRC Office and Employees Addresses"
   ]
  },
  {
   "cell_type": "markdown",
   "id": "72265488",
   "metadata": {},
   "source": [
    "# Employee addresses"
   ]
  },
  {
   "cell_type": "code",
   "execution_count": 9,
   "id": "d86411ca",
   "metadata": {},
   "outputs": [],
   "source": [
    "emp_add = pd.read_csv(r\"C:\\Aditya\\WSP_Office_addresses\\emp_add.csv\")"
   ]
  },
  {
   "cell_type": "code",
   "execution_count": 10,
   "id": "dffa2a6b",
   "metadata": {},
   "outputs": [
    {
     "data": {
      "text/html": [
       "<div>\n",
       "<style scoped>\n",
       "    .dataframe tbody tr th:only-of-type {\n",
       "        vertical-align: middle;\n",
       "    }\n",
       "\n",
       "    .dataframe tbody tr th {\n",
       "        vertical-align: top;\n",
       "    }\n",
       "\n",
       "    .dataframe thead th {\n",
       "        text-align: right;\n",
       "    }\n",
       "</style>\n",
       "<table border=\"1\" class=\"dataframe\">\n",
       "  <thead>\n",
       "    <tr style=\"text-align: right;\">\n",
       "      <th></th>\n",
       "      <th>Employee</th>\n",
       "      <th>Full Address</th>\n",
       "    </tr>\n",
       "  </thead>\n",
       "  <tbody>\n",
       "    <tr>\n",
       "      <th>0</th>\n",
       "      <td>R-1</td>\n",
       "      <td>9 Ambrosia Lane, Aidanfield, 8025, New Zealand</td>\n",
       "    </tr>\n",
       "    <tr>\n",
       "      <th>1</th>\n",
       "      <td>R-2</td>\n",
       "      <td>21 Aronui Road, Alexandra, 9320, New Zealand</td>\n",
       "    </tr>\n",
       "    <tr>\n",
       "      <th>2</th>\n",
       "      <td>R-3</td>\n",
       "      <td>32a Airport Road, Alexandra, 9391, New Zealand</td>\n",
       "    </tr>\n",
       "    <tr>\n",
       "      <th>3</th>\n",
       "      <td>R-4</td>\n",
       "      <td>7 Kinnaird Close, Alexandra, 9320, New Zealand</td>\n",
       "    </tr>\n",
       "    <tr>\n",
       "      <th>4</th>\n",
       "      <td>R-5</td>\n",
       "      <td>27 Arnott Street, Alexandra, 9320, New Zealand</td>\n",
       "    </tr>\n",
       "  </tbody>\n",
       "</table>\n",
       "</div>"
      ],
      "text/plain": [
       "  Employee                                    Full Address\n",
       "0      R-1  9 Ambrosia Lane, Aidanfield, 8025, New Zealand\n",
       "1      R-2    21 Aronui Road, Alexandra, 9320, New Zealand\n",
       "2      R-3  32a Airport Road, Alexandra, 9391, New Zealand\n",
       "3      R-4  7 Kinnaird Close, Alexandra, 9320, New Zealand\n",
       "4      R-5  27 Arnott Street, Alexandra, 9320, New Zealand"
      ]
     },
     "execution_count": 10,
     "metadata": {},
     "output_type": "execute_result"
    }
   ],
   "source": [
    "emp_add.head()"
   ]
  },
  {
   "cell_type": "code",
   "execution_count": 11,
   "id": "29404592",
   "metadata": {},
   "outputs": [],
   "source": [
    "import geopandas"
   ]
  },
  {
   "cell_type": "code",
   "execution_count": 12,
   "id": "3602dc14",
   "metadata": {},
   "outputs": [
    {
     "ename": "KeyboardInterrupt",
     "evalue": "",
     "output_type": "error",
     "traceback": [
      "\u001b[1;31m---------------------------------------------------------------------------\u001b[0m",
      "\u001b[1;31mKeyboardInterrupt\u001b[0m                         Traceback (most recent call last)",
      "\u001b[1;32m~\\AppData\\Local\\Temp\\ipykernel_22832\\919545094.py\u001b[0m in \u001b[0;36m<cell line: 1>\u001b[1;34m()\u001b[0m\n\u001b[1;32m----> 1\u001b[1;33m \u001b[0memp_geocoded_add\u001b[0m \u001b[1;33m=\u001b[0m \u001b[0mgeopandas\u001b[0m\u001b[1;33m.\u001b[0m\u001b[0mtools\u001b[0m\u001b[1;33m.\u001b[0m\u001b[0mgeocode\u001b[0m\u001b[1;33m(\u001b[0m\u001b[0memp_add\u001b[0m\u001b[1;33m[\u001b[0m\u001b[1;34m\"Full Address\"\u001b[0m\u001b[1;33m]\u001b[0m\u001b[1;33m,\u001b[0m \u001b[0mprovider\u001b[0m \u001b[1;33m=\u001b[0m \u001b[1;34m\"nominatim\"\u001b[0m\u001b[1;33m,\u001b[0m \u001b[0muser_agent\u001b[0m \u001b[1;33m=\u001b[0m \u001b[1;34m\"autogis_AK\"\u001b[0m\u001b[1;33m,\u001b[0m\u001b[0mtimeout\u001b[0m\u001b[1;33m=\u001b[0m\u001b[1;36m10\u001b[0m\u001b[1;33m)\u001b[0m\u001b[1;33m\u001b[0m\u001b[1;33m\u001b[0m\u001b[0m\n\u001b[0m",
      "\u001b[1;32m~\\AppData\\Roaming\\Python\\Python39\\site-packages\\geopandas\\tools\\geocoding.py\u001b[0m in \u001b[0;36mgeocode\u001b[1;34m(strings, provider, **kwargs)\u001b[0m\n\u001b[0;32m     65\u001b[0m     \u001b[0mthrottle_time\u001b[0m \u001b[1;33m=\u001b[0m \u001b[0m_get_throttle_time\u001b[0m\u001b[1;33m(\u001b[0m\u001b[0mprovider\u001b[0m\u001b[1;33m)\u001b[0m\u001b[1;33m\u001b[0m\u001b[1;33m\u001b[0m\u001b[0m\n\u001b[0;32m     66\u001b[0m \u001b[1;33m\u001b[0m\u001b[0m\n\u001b[1;32m---> 67\u001b[1;33m     \u001b[1;32mreturn\u001b[0m \u001b[0m_query\u001b[0m\u001b[1;33m(\u001b[0m\u001b[0mstrings\u001b[0m\u001b[1;33m,\u001b[0m \u001b[1;32mTrue\u001b[0m\u001b[1;33m,\u001b[0m \u001b[0mprovider\u001b[0m\u001b[1;33m,\u001b[0m \u001b[0mthrottle_time\u001b[0m\u001b[1;33m,\u001b[0m \u001b[1;33m**\u001b[0m\u001b[0mkwargs\u001b[0m\u001b[1;33m)\u001b[0m\u001b[1;33m\u001b[0m\u001b[1;33m\u001b[0m\u001b[0m\n\u001b[0m\u001b[0;32m     68\u001b[0m \u001b[1;33m\u001b[0m\u001b[0m\n\u001b[0;32m     69\u001b[0m \u001b[1;33m\u001b[0m\u001b[0m\n",
      "\u001b[1;32m~\\AppData\\Roaming\\Python\\Python39\\site-packages\\geopandas\\tools\\geocoding.py\u001b[0m in \u001b[0;36m_query\u001b[1;34m(data, forward, provider, throttle_time, **kwargs)\u001b[0m\n\u001b[0;32m    139\u001b[0m         \u001b[1;32mtry\u001b[0m\u001b[1;33m:\u001b[0m\u001b[1;33m\u001b[0m\u001b[1;33m\u001b[0m\u001b[0m\n\u001b[0;32m    140\u001b[0m             \u001b[1;32mif\u001b[0m \u001b[0mforward\u001b[0m\u001b[1;33m:\u001b[0m\u001b[1;33m\u001b[0m\u001b[1;33m\u001b[0m\u001b[0m\n\u001b[1;32m--> 141\u001b[1;33m                 \u001b[0mresults\u001b[0m\u001b[1;33m[\u001b[0m\u001b[0mi\u001b[0m\u001b[1;33m]\u001b[0m \u001b[1;33m=\u001b[0m \u001b[0mcoder\u001b[0m\u001b[1;33m.\u001b[0m\u001b[0mgeocode\u001b[0m\u001b[1;33m(\u001b[0m\u001b[0ms\u001b[0m\u001b[1;33m)\u001b[0m\u001b[1;33m\u001b[0m\u001b[1;33m\u001b[0m\u001b[0m\n\u001b[0m\u001b[0;32m    142\u001b[0m             \u001b[1;32melse\u001b[0m\u001b[1;33m:\u001b[0m\u001b[1;33m\u001b[0m\u001b[1;33m\u001b[0m\u001b[0m\n\u001b[0;32m    143\u001b[0m                 \u001b[0mresults\u001b[0m\u001b[1;33m[\u001b[0m\u001b[0mi\u001b[0m\u001b[1;33m]\u001b[0m \u001b[1;33m=\u001b[0m \u001b[0mcoder\u001b[0m\u001b[1;33m.\u001b[0m\u001b[0mreverse\u001b[0m\u001b[1;33m(\u001b[0m\u001b[1;33m(\u001b[0m\u001b[0ms\u001b[0m\u001b[1;33m.\u001b[0m\u001b[0my\u001b[0m\u001b[1;33m,\u001b[0m \u001b[0ms\u001b[0m\u001b[1;33m.\u001b[0m\u001b[0mx\u001b[0m\u001b[1;33m)\u001b[0m\u001b[1;33m,\u001b[0m \u001b[0mexactly_one\u001b[0m\u001b[1;33m=\u001b[0m\u001b[1;32mTrue\u001b[0m\u001b[1;33m)\u001b[0m\u001b[1;33m\u001b[0m\u001b[1;33m\u001b[0m\u001b[0m\n",
      "\u001b[1;32m~\\AppData\\Local\\ESRI\\conda\\envs\\my_clone_env\\lib\\site-packages\\geopy\\geocoders\\nominatim.py\u001b[0m in \u001b[0;36mgeocode\u001b[1;34m(self, query, exactly_one, timeout, limit, addressdetails, language, geometry, extratags, country_codes, viewbox, bounded, featuretype, namedetails)\u001b[0m\n\u001b[0;32m    295\u001b[0m         \u001b[0mlogger\u001b[0m\u001b[1;33m.\u001b[0m\u001b[0mdebug\u001b[0m\u001b[1;33m(\u001b[0m\u001b[1;34m\"%s.geocode: %s\"\u001b[0m\u001b[1;33m,\u001b[0m \u001b[0mself\u001b[0m\u001b[1;33m.\u001b[0m\u001b[0m__class__\u001b[0m\u001b[1;33m.\u001b[0m\u001b[0m__name__\u001b[0m\u001b[1;33m,\u001b[0m \u001b[0murl\u001b[0m\u001b[1;33m)\u001b[0m\u001b[1;33m\u001b[0m\u001b[1;33m\u001b[0m\u001b[0m\n\u001b[0;32m    296\u001b[0m         \u001b[0mcallback\u001b[0m \u001b[1;33m=\u001b[0m \u001b[0mpartial\u001b[0m\u001b[1;33m(\u001b[0m\u001b[0mself\u001b[0m\u001b[1;33m.\u001b[0m\u001b[0m_parse_json\u001b[0m\u001b[1;33m,\u001b[0m \u001b[0mexactly_one\u001b[0m\u001b[1;33m=\u001b[0m\u001b[0mexactly_one\u001b[0m\u001b[1;33m)\u001b[0m\u001b[1;33m\u001b[0m\u001b[1;33m\u001b[0m\u001b[0m\n\u001b[1;32m--> 297\u001b[1;33m         \u001b[1;32mreturn\u001b[0m \u001b[0mself\u001b[0m\u001b[1;33m.\u001b[0m\u001b[0m_call_geocoder\u001b[0m\u001b[1;33m(\u001b[0m\u001b[0murl\u001b[0m\u001b[1;33m,\u001b[0m \u001b[0mcallback\u001b[0m\u001b[1;33m,\u001b[0m \u001b[0mtimeout\u001b[0m\u001b[1;33m=\u001b[0m\u001b[0mtimeout\u001b[0m\u001b[1;33m)\u001b[0m\u001b[1;33m\u001b[0m\u001b[1;33m\u001b[0m\u001b[0m\n\u001b[0m\u001b[0;32m    298\u001b[0m \u001b[1;33m\u001b[0m\u001b[0m\n\u001b[0;32m    299\u001b[0m     def reverse(\n",
      "\u001b[1;32m~\\AppData\\Local\\ESRI\\conda\\envs\\my_clone_env\\lib\\site-packages\\geopy\\geocoders\\base.py\u001b[0m in \u001b[0;36m_call_geocoder\u001b[1;34m(self, url, callback, timeout, is_json, headers)\u001b[0m\n\u001b[0;32m    366\u001b[0m         \u001b[1;32mtry\u001b[0m\u001b[1;33m:\u001b[0m\u001b[1;33m\u001b[0m\u001b[1;33m\u001b[0m\u001b[0m\n\u001b[0;32m    367\u001b[0m             \u001b[1;32mif\u001b[0m \u001b[0mis_json\u001b[0m\u001b[1;33m:\u001b[0m\u001b[1;33m\u001b[0m\u001b[1;33m\u001b[0m\u001b[0m\n\u001b[1;32m--> 368\u001b[1;33m                 \u001b[0mresult\u001b[0m \u001b[1;33m=\u001b[0m \u001b[0mself\u001b[0m\u001b[1;33m.\u001b[0m\u001b[0madapter\u001b[0m\u001b[1;33m.\u001b[0m\u001b[0mget_json\u001b[0m\u001b[1;33m(\u001b[0m\u001b[0murl\u001b[0m\u001b[1;33m,\u001b[0m \u001b[0mtimeout\u001b[0m\u001b[1;33m=\u001b[0m\u001b[0mtimeout\u001b[0m\u001b[1;33m,\u001b[0m \u001b[0mheaders\u001b[0m\u001b[1;33m=\u001b[0m\u001b[0mreq_headers\u001b[0m\u001b[1;33m)\u001b[0m\u001b[1;33m\u001b[0m\u001b[1;33m\u001b[0m\u001b[0m\n\u001b[0m\u001b[0;32m    369\u001b[0m             \u001b[1;32melse\u001b[0m\u001b[1;33m:\u001b[0m\u001b[1;33m\u001b[0m\u001b[1;33m\u001b[0m\u001b[0m\n\u001b[0;32m    370\u001b[0m                 \u001b[0mresult\u001b[0m \u001b[1;33m=\u001b[0m \u001b[0mself\u001b[0m\u001b[1;33m.\u001b[0m\u001b[0madapter\u001b[0m\u001b[1;33m.\u001b[0m\u001b[0mget_text\u001b[0m\u001b[1;33m(\u001b[0m\u001b[0murl\u001b[0m\u001b[1;33m,\u001b[0m \u001b[0mtimeout\u001b[0m\u001b[1;33m=\u001b[0m\u001b[0mtimeout\u001b[0m\u001b[1;33m,\u001b[0m \u001b[0mheaders\u001b[0m\u001b[1;33m=\u001b[0m\u001b[0mreq_headers\u001b[0m\u001b[1;33m)\u001b[0m\u001b[1;33m\u001b[0m\u001b[1;33m\u001b[0m\u001b[0m\n",
      "\u001b[1;32m~\\AppData\\Local\\ESRI\\conda\\envs\\my_clone_env\\lib\\site-packages\\geopy\\adapters.py\u001b[0m in \u001b[0;36mget_json\u001b[1;34m(self, url, timeout, headers)\u001b[0m\n\u001b[0;32m    470\u001b[0m \u001b[1;33m\u001b[0m\u001b[0m\n\u001b[0;32m    471\u001b[0m     \u001b[1;32mdef\u001b[0m \u001b[0mget_json\u001b[0m\u001b[1;33m(\u001b[0m\u001b[0mself\u001b[0m\u001b[1;33m,\u001b[0m \u001b[0murl\u001b[0m\u001b[1;33m,\u001b[0m \u001b[1;33m*\u001b[0m\u001b[1;33m,\u001b[0m \u001b[0mtimeout\u001b[0m\u001b[1;33m,\u001b[0m \u001b[0mheaders\u001b[0m\u001b[1;33m)\u001b[0m\u001b[1;33m:\u001b[0m\u001b[1;33m\u001b[0m\u001b[1;33m\u001b[0m\u001b[0m\n\u001b[1;32m--> 472\u001b[1;33m         \u001b[0mresp\u001b[0m \u001b[1;33m=\u001b[0m \u001b[0mself\u001b[0m\u001b[1;33m.\u001b[0m\u001b[0m_request\u001b[0m\u001b[1;33m(\u001b[0m\u001b[0murl\u001b[0m\u001b[1;33m,\u001b[0m \u001b[0mtimeout\u001b[0m\u001b[1;33m=\u001b[0m\u001b[0mtimeout\u001b[0m\u001b[1;33m,\u001b[0m \u001b[0mheaders\u001b[0m\u001b[1;33m=\u001b[0m\u001b[0mheaders\u001b[0m\u001b[1;33m)\u001b[0m\u001b[1;33m\u001b[0m\u001b[1;33m\u001b[0m\u001b[0m\n\u001b[0m\u001b[0;32m    473\u001b[0m         \u001b[1;32mtry\u001b[0m\u001b[1;33m:\u001b[0m\u001b[1;33m\u001b[0m\u001b[1;33m\u001b[0m\u001b[0m\n\u001b[0;32m    474\u001b[0m             \u001b[1;32mreturn\u001b[0m \u001b[0mresp\u001b[0m\u001b[1;33m.\u001b[0m\u001b[0mjson\u001b[0m\u001b[1;33m(\u001b[0m\u001b[1;33m)\u001b[0m\u001b[1;33m\u001b[0m\u001b[1;33m\u001b[0m\u001b[0m\n",
      "\u001b[1;32m~\\AppData\\Local\\ESRI\\conda\\envs\\my_clone_env\\lib\\site-packages\\geopy\\adapters.py\u001b[0m in \u001b[0;36m_request\u001b[1;34m(self, url, timeout, headers)\u001b[0m\n\u001b[0;32m    480\u001b[0m     \u001b[1;32mdef\u001b[0m \u001b[0m_request\u001b[0m\u001b[1;33m(\u001b[0m\u001b[0mself\u001b[0m\u001b[1;33m,\u001b[0m \u001b[0murl\u001b[0m\u001b[1;33m,\u001b[0m \u001b[1;33m*\u001b[0m\u001b[1;33m,\u001b[0m \u001b[0mtimeout\u001b[0m\u001b[1;33m,\u001b[0m \u001b[0mheaders\u001b[0m\u001b[1;33m)\u001b[0m\u001b[1;33m:\u001b[0m\u001b[1;33m\u001b[0m\u001b[1;33m\u001b[0m\u001b[0m\n\u001b[0;32m    481\u001b[0m         \u001b[1;32mtry\u001b[0m\u001b[1;33m:\u001b[0m\u001b[1;33m\u001b[0m\u001b[1;33m\u001b[0m\u001b[0m\n\u001b[1;32m--> 482\u001b[1;33m             \u001b[0mresp\u001b[0m \u001b[1;33m=\u001b[0m \u001b[0mself\u001b[0m\u001b[1;33m.\u001b[0m\u001b[0msession\u001b[0m\u001b[1;33m.\u001b[0m\u001b[0mget\u001b[0m\u001b[1;33m(\u001b[0m\u001b[0murl\u001b[0m\u001b[1;33m,\u001b[0m \u001b[0mtimeout\u001b[0m\u001b[1;33m=\u001b[0m\u001b[0mtimeout\u001b[0m\u001b[1;33m,\u001b[0m \u001b[0mheaders\u001b[0m\u001b[1;33m=\u001b[0m\u001b[0mheaders\u001b[0m\u001b[1;33m)\u001b[0m\u001b[1;33m\u001b[0m\u001b[1;33m\u001b[0m\u001b[0m\n\u001b[0m\u001b[0;32m    483\u001b[0m         \u001b[1;32mexcept\u001b[0m \u001b[0mException\u001b[0m \u001b[1;32mas\u001b[0m \u001b[0merror\u001b[0m\u001b[1;33m:\u001b[0m\u001b[1;33m\u001b[0m\u001b[1;33m\u001b[0m\u001b[0m\n\u001b[0;32m    484\u001b[0m             \u001b[0mmessage\u001b[0m \u001b[1;33m=\u001b[0m \u001b[0mstr\u001b[0m\u001b[1;33m(\u001b[0m\u001b[0merror\u001b[0m\u001b[1;33m)\u001b[0m\u001b[1;33m\u001b[0m\u001b[1;33m\u001b[0m\u001b[0m\n",
      "\u001b[1;32m~\\AppData\\Local\\ESRI\\conda\\envs\\my_clone_env\\lib\\site-packages\\requests\\sessions.py\u001b[0m in \u001b[0;36mget\u001b[1;34m(self, url, **kwargs)\u001b[0m\n\u001b[0;32m    598\u001b[0m \u001b[1;33m\u001b[0m\u001b[0m\n\u001b[0;32m    599\u001b[0m         \u001b[0mkwargs\u001b[0m\u001b[1;33m.\u001b[0m\u001b[0msetdefault\u001b[0m\u001b[1;33m(\u001b[0m\u001b[1;34m\"allow_redirects\"\u001b[0m\u001b[1;33m,\u001b[0m \u001b[1;32mTrue\u001b[0m\u001b[1;33m)\u001b[0m\u001b[1;33m\u001b[0m\u001b[1;33m\u001b[0m\u001b[0m\n\u001b[1;32m--> 600\u001b[1;33m         \u001b[1;32mreturn\u001b[0m \u001b[0mself\u001b[0m\u001b[1;33m.\u001b[0m\u001b[0mrequest\u001b[0m\u001b[1;33m(\u001b[0m\u001b[1;34m\"GET\"\u001b[0m\u001b[1;33m,\u001b[0m \u001b[0murl\u001b[0m\u001b[1;33m,\u001b[0m \u001b[1;33m**\u001b[0m\u001b[0mkwargs\u001b[0m\u001b[1;33m)\u001b[0m\u001b[1;33m\u001b[0m\u001b[1;33m\u001b[0m\u001b[0m\n\u001b[0m\u001b[0;32m    601\u001b[0m \u001b[1;33m\u001b[0m\u001b[0m\n\u001b[0;32m    602\u001b[0m     \u001b[1;32mdef\u001b[0m \u001b[0moptions\u001b[0m\u001b[1;33m(\u001b[0m\u001b[0mself\u001b[0m\u001b[1;33m,\u001b[0m \u001b[0murl\u001b[0m\u001b[1;33m,\u001b[0m \u001b[1;33m**\u001b[0m\u001b[0mkwargs\u001b[0m\u001b[1;33m)\u001b[0m\u001b[1;33m:\u001b[0m\u001b[1;33m\u001b[0m\u001b[1;33m\u001b[0m\u001b[0m\n",
      "\u001b[1;32m~\\AppData\\Local\\ESRI\\conda\\envs\\my_clone_env\\lib\\site-packages\\requests\\sessions.py\u001b[0m in \u001b[0;36mrequest\u001b[1;34m(self, method, url, params, data, headers, cookies, files, auth, timeout, allow_redirects, proxies, hooks, stream, verify, cert, json)\u001b[0m\n\u001b[0;32m    585\u001b[0m         }\n\u001b[0;32m    586\u001b[0m         \u001b[0msend_kwargs\u001b[0m\u001b[1;33m.\u001b[0m\u001b[0mupdate\u001b[0m\u001b[1;33m(\u001b[0m\u001b[0msettings\u001b[0m\u001b[1;33m)\u001b[0m\u001b[1;33m\u001b[0m\u001b[1;33m\u001b[0m\u001b[0m\n\u001b[1;32m--> 587\u001b[1;33m         \u001b[0mresp\u001b[0m \u001b[1;33m=\u001b[0m \u001b[0mself\u001b[0m\u001b[1;33m.\u001b[0m\u001b[0msend\u001b[0m\u001b[1;33m(\u001b[0m\u001b[0mprep\u001b[0m\u001b[1;33m,\u001b[0m \u001b[1;33m**\u001b[0m\u001b[0msend_kwargs\u001b[0m\u001b[1;33m)\u001b[0m\u001b[1;33m\u001b[0m\u001b[1;33m\u001b[0m\u001b[0m\n\u001b[0m\u001b[0;32m    588\u001b[0m \u001b[1;33m\u001b[0m\u001b[0m\n\u001b[0;32m    589\u001b[0m         \u001b[1;32mreturn\u001b[0m \u001b[0mresp\u001b[0m\u001b[1;33m\u001b[0m\u001b[1;33m\u001b[0m\u001b[0m\n",
      "\u001b[1;32m~\\AppData\\Local\\ESRI\\conda\\envs\\my_clone_env\\lib\\site-packages\\requests\\sessions.py\u001b[0m in \u001b[0;36msend\u001b[1;34m(self, request, **kwargs)\u001b[0m\n\u001b[0;32m    699\u001b[0m \u001b[1;33m\u001b[0m\u001b[0m\n\u001b[0;32m    700\u001b[0m         \u001b[1;31m# Send the request\u001b[0m\u001b[1;33m\u001b[0m\u001b[1;33m\u001b[0m\u001b[0m\n\u001b[1;32m--> 701\u001b[1;33m         \u001b[0mr\u001b[0m \u001b[1;33m=\u001b[0m \u001b[0madapter\u001b[0m\u001b[1;33m.\u001b[0m\u001b[0msend\u001b[0m\u001b[1;33m(\u001b[0m\u001b[0mrequest\u001b[0m\u001b[1;33m,\u001b[0m \u001b[1;33m**\u001b[0m\u001b[0mkwargs\u001b[0m\u001b[1;33m)\u001b[0m\u001b[1;33m\u001b[0m\u001b[1;33m\u001b[0m\u001b[0m\n\u001b[0m\u001b[0;32m    702\u001b[0m \u001b[1;33m\u001b[0m\u001b[0m\n\u001b[0;32m    703\u001b[0m         \u001b[1;31m# Total elapsed time of the request (approximately)\u001b[0m\u001b[1;33m\u001b[0m\u001b[1;33m\u001b[0m\u001b[0m\n",
      "\u001b[1;32m~\\AppData\\Local\\ESRI\\conda\\envs\\my_clone_env\\lib\\site-packages\\requests\\adapters.py\u001b[0m in \u001b[0;36msend\u001b[1;34m(self, request, stream, timeout, verify, cert, proxies)\u001b[0m\n\u001b[0;32m    487\u001b[0m         \u001b[1;32mtry\u001b[0m\u001b[1;33m:\u001b[0m\u001b[1;33m\u001b[0m\u001b[1;33m\u001b[0m\u001b[0m\n\u001b[0;32m    488\u001b[0m             \u001b[1;32mif\u001b[0m \u001b[1;32mnot\u001b[0m \u001b[0mchunked\u001b[0m\u001b[1;33m:\u001b[0m\u001b[1;33m\u001b[0m\u001b[1;33m\u001b[0m\u001b[0m\n\u001b[1;32m--> 489\u001b[1;33m                 resp = conn.urlopen(\n\u001b[0m\u001b[0;32m    490\u001b[0m                     \u001b[0mmethod\u001b[0m\u001b[1;33m=\u001b[0m\u001b[0mrequest\u001b[0m\u001b[1;33m.\u001b[0m\u001b[0mmethod\u001b[0m\u001b[1;33m,\u001b[0m\u001b[1;33m\u001b[0m\u001b[1;33m\u001b[0m\u001b[0m\n\u001b[0;32m    491\u001b[0m                     \u001b[0murl\u001b[0m\u001b[1;33m=\u001b[0m\u001b[0murl\u001b[0m\u001b[1;33m,\u001b[0m\u001b[1;33m\u001b[0m\u001b[1;33m\u001b[0m\u001b[0m\n",
      "\u001b[1;32m~\\AppData\\Local\\ESRI\\conda\\envs\\my_clone_env\\lib\\site-packages\\urllib3\\connectionpool.py\u001b[0m in \u001b[0;36murlopen\u001b[1;34m(self, method, url, body, headers, retries, redirect, assert_same_host, timeout, pool_timeout, release_conn, chunked, body_pos, **response_kw)\u001b[0m\n\u001b[0;32m    701\u001b[0m \u001b[1;33m\u001b[0m\u001b[0m\n\u001b[0;32m    702\u001b[0m             \u001b[1;31m# Make the request on the httplib connection object.\u001b[0m\u001b[1;33m\u001b[0m\u001b[1;33m\u001b[0m\u001b[0m\n\u001b[1;32m--> 703\u001b[1;33m             httplib_response = self._make_request(\n\u001b[0m\u001b[0;32m    704\u001b[0m                 \u001b[0mconn\u001b[0m\u001b[1;33m,\u001b[0m\u001b[1;33m\u001b[0m\u001b[1;33m\u001b[0m\u001b[0m\n\u001b[0;32m    705\u001b[0m                 \u001b[0mmethod\u001b[0m\u001b[1;33m,\u001b[0m\u001b[1;33m\u001b[0m\u001b[1;33m\u001b[0m\u001b[0m\n",
      "\u001b[1;32m~\\AppData\\Local\\ESRI\\conda\\envs\\my_clone_env\\lib\\site-packages\\urllib3\\connectionpool.py\u001b[0m in \u001b[0;36m_make_request\u001b[1;34m(self, conn, method, url, timeout, chunked, **httplib_request_kw)\u001b[0m\n\u001b[0;32m    447\u001b[0m                     \u001b[1;31m# Python 3 (including for exceptions like SystemExit).\u001b[0m\u001b[1;33m\u001b[0m\u001b[1;33m\u001b[0m\u001b[0m\n\u001b[0;32m    448\u001b[0m                     \u001b[1;31m# Otherwise it looks like a bug in the code.\u001b[0m\u001b[1;33m\u001b[0m\u001b[1;33m\u001b[0m\u001b[0m\n\u001b[1;32m--> 449\u001b[1;33m                     \u001b[0msix\u001b[0m\u001b[1;33m.\u001b[0m\u001b[0mraise_from\u001b[0m\u001b[1;33m(\u001b[0m\u001b[0me\u001b[0m\u001b[1;33m,\u001b[0m \u001b[1;32mNone\u001b[0m\u001b[1;33m)\u001b[0m\u001b[1;33m\u001b[0m\u001b[1;33m\u001b[0m\u001b[0m\n\u001b[0m\u001b[0;32m    450\u001b[0m         \u001b[1;32mexcept\u001b[0m \u001b[1;33m(\u001b[0m\u001b[0mSocketTimeout\u001b[0m\u001b[1;33m,\u001b[0m \u001b[0mBaseSSLError\u001b[0m\u001b[1;33m,\u001b[0m \u001b[0mSocketError\u001b[0m\u001b[1;33m)\u001b[0m \u001b[1;32mas\u001b[0m \u001b[0me\u001b[0m\u001b[1;33m:\u001b[0m\u001b[1;33m\u001b[0m\u001b[1;33m\u001b[0m\u001b[0m\n\u001b[0;32m    451\u001b[0m             \u001b[0mself\u001b[0m\u001b[1;33m.\u001b[0m\u001b[0m_raise_timeout\u001b[0m\u001b[1;33m(\u001b[0m\u001b[0merr\u001b[0m\u001b[1;33m=\u001b[0m\u001b[0me\u001b[0m\u001b[1;33m,\u001b[0m \u001b[0murl\u001b[0m\u001b[1;33m=\u001b[0m\u001b[0murl\u001b[0m\u001b[1;33m,\u001b[0m \u001b[0mtimeout_value\u001b[0m\u001b[1;33m=\u001b[0m\u001b[0mread_timeout\u001b[0m\u001b[1;33m)\u001b[0m\u001b[1;33m\u001b[0m\u001b[1;33m\u001b[0m\u001b[0m\n",
      "\u001b[1;32m~\\AppData\\Local\\ESRI\\conda\\envs\\my_clone_env\\lib\\site-packages\\urllib3\\packages\\six.py\u001b[0m in \u001b[0;36mraise_from\u001b[1;34m(value, from_value)\u001b[0m\n",
      "\u001b[1;32m~\\AppData\\Local\\ESRI\\conda\\envs\\my_clone_env\\lib\\site-packages\\urllib3\\connectionpool.py\u001b[0m in \u001b[0;36m_make_request\u001b[1;34m(self, conn, method, url, timeout, chunked, **httplib_request_kw)\u001b[0m\n\u001b[0;32m    442\u001b[0m                 \u001b[1;31m# Python 3\u001b[0m\u001b[1;33m\u001b[0m\u001b[1;33m\u001b[0m\u001b[0m\n\u001b[0;32m    443\u001b[0m                 \u001b[1;32mtry\u001b[0m\u001b[1;33m:\u001b[0m\u001b[1;33m\u001b[0m\u001b[1;33m\u001b[0m\u001b[0m\n\u001b[1;32m--> 444\u001b[1;33m                     \u001b[0mhttplib_response\u001b[0m \u001b[1;33m=\u001b[0m \u001b[0mconn\u001b[0m\u001b[1;33m.\u001b[0m\u001b[0mgetresponse\u001b[0m\u001b[1;33m(\u001b[0m\u001b[1;33m)\u001b[0m\u001b[1;33m\u001b[0m\u001b[1;33m\u001b[0m\u001b[0m\n\u001b[0m\u001b[0;32m    445\u001b[0m                 \u001b[1;32mexcept\u001b[0m \u001b[0mBaseException\u001b[0m \u001b[1;32mas\u001b[0m \u001b[0me\u001b[0m\u001b[1;33m:\u001b[0m\u001b[1;33m\u001b[0m\u001b[1;33m\u001b[0m\u001b[0m\n\u001b[0;32m    446\u001b[0m                     \u001b[1;31m# Remove the TypeError from the exception chain in\u001b[0m\u001b[1;33m\u001b[0m\u001b[1;33m\u001b[0m\u001b[0m\n",
      "\u001b[1;32m~\\AppData\\Local\\ESRI\\conda\\envs\\my_clone_env\\lib\\http\\client.py\u001b[0m in \u001b[0;36mgetresponse\u001b[1;34m(self)\u001b[0m\n\u001b[0;32m   1375\u001b[0m         \u001b[1;32mtry\u001b[0m\u001b[1;33m:\u001b[0m\u001b[1;33m\u001b[0m\u001b[1;33m\u001b[0m\u001b[0m\n\u001b[0;32m   1376\u001b[0m             \u001b[1;32mtry\u001b[0m\u001b[1;33m:\u001b[0m\u001b[1;33m\u001b[0m\u001b[1;33m\u001b[0m\u001b[0m\n\u001b[1;32m-> 1377\u001b[1;33m                 \u001b[0mresponse\u001b[0m\u001b[1;33m.\u001b[0m\u001b[0mbegin\u001b[0m\u001b[1;33m(\u001b[0m\u001b[1;33m)\u001b[0m\u001b[1;33m\u001b[0m\u001b[1;33m\u001b[0m\u001b[0m\n\u001b[0m\u001b[0;32m   1378\u001b[0m             \u001b[1;32mexcept\u001b[0m \u001b[0mConnectionError\u001b[0m\u001b[1;33m:\u001b[0m\u001b[1;33m\u001b[0m\u001b[1;33m\u001b[0m\u001b[0m\n\u001b[0;32m   1379\u001b[0m                 \u001b[0mself\u001b[0m\u001b[1;33m.\u001b[0m\u001b[0mclose\u001b[0m\u001b[1;33m(\u001b[0m\u001b[1;33m)\u001b[0m\u001b[1;33m\u001b[0m\u001b[1;33m\u001b[0m\u001b[0m\n",
      "\u001b[1;32m~\\AppData\\Local\\ESRI\\conda\\envs\\my_clone_env\\lib\\http\\client.py\u001b[0m in \u001b[0;36mbegin\u001b[1;34m(self)\u001b[0m\n\u001b[0;32m    318\u001b[0m         \u001b[1;31m# read until we get a non-100 response\u001b[0m\u001b[1;33m\u001b[0m\u001b[1;33m\u001b[0m\u001b[0m\n\u001b[0;32m    319\u001b[0m         \u001b[1;32mwhile\u001b[0m \u001b[1;32mTrue\u001b[0m\u001b[1;33m:\u001b[0m\u001b[1;33m\u001b[0m\u001b[1;33m\u001b[0m\u001b[0m\n\u001b[1;32m--> 320\u001b[1;33m             \u001b[0mversion\u001b[0m\u001b[1;33m,\u001b[0m \u001b[0mstatus\u001b[0m\u001b[1;33m,\u001b[0m \u001b[0mreason\u001b[0m \u001b[1;33m=\u001b[0m \u001b[0mself\u001b[0m\u001b[1;33m.\u001b[0m\u001b[0m_read_status\u001b[0m\u001b[1;33m(\u001b[0m\u001b[1;33m)\u001b[0m\u001b[1;33m\u001b[0m\u001b[1;33m\u001b[0m\u001b[0m\n\u001b[0m\u001b[0;32m    321\u001b[0m             \u001b[1;32mif\u001b[0m \u001b[0mstatus\u001b[0m \u001b[1;33m!=\u001b[0m \u001b[0mCONTINUE\u001b[0m\u001b[1;33m:\u001b[0m\u001b[1;33m\u001b[0m\u001b[1;33m\u001b[0m\u001b[0m\n\u001b[0;32m    322\u001b[0m                 \u001b[1;32mbreak\u001b[0m\u001b[1;33m\u001b[0m\u001b[1;33m\u001b[0m\u001b[0m\n",
      "\u001b[1;32m~\\AppData\\Local\\ESRI\\conda\\envs\\my_clone_env\\lib\\http\\client.py\u001b[0m in \u001b[0;36m_read_status\u001b[1;34m(self)\u001b[0m\n\u001b[0;32m    279\u001b[0m \u001b[1;33m\u001b[0m\u001b[0m\n\u001b[0;32m    280\u001b[0m     \u001b[1;32mdef\u001b[0m \u001b[0m_read_status\u001b[0m\u001b[1;33m(\u001b[0m\u001b[0mself\u001b[0m\u001b[1;33m)\u001b[0m\u001b[1;33m:\u001b[0m\u001b[1;33m\u001b[0m\u001b[1;33m\u001b[0m\u001b[0m\n\u001b[1;32m--> 281\u001b[1;33m         \u001b[0mline\u001b[0m \u001b[1;33m=\u001b[0m \u001b[0mstr\u001b[0m\u001b[1;33m(\u001b[0m\u001b[0mself\u001b[0m\u001b[1;33m.\u001b[0m\u001b[0mfp\u001b[0m\u001b[1;33m.\u001b[0m\u001b[0mreadline\u001b[0m\u001b[1;33m(\u001b[0m\u001b[0m_MAXLINE\u001b[0m \u001b[1;33m+\u001b[0m \u001b[1;36m1\u001b[0m\u001b[1;33m)\u001b[0m\u001b[1;33m,\u001b[0m \u001b[1;34m\"iso-8859-1\"\u001b[0m\u001b[1;33m)\u001b[0m\u001b[1;33m\u001b[0m\u001b[1;33m\u001b[0m\u001b[0m\n\u001b[0m\u001b[0;32m    282\u001b[0m         \u001b[1;32mif\u001b[0m \u001b[0mlen\u001b[0m\u001b[1;33m(\u001b[0m\u001b[0mline\u001b[0m\u001b[1;33m)\u001b[0m \u001b[1;33m>\u001b[0m \u001b[0m_MAXLINE\u001b[0m\u001b[1;33m:\u001b[0m\u001b[1;33m\u001b[0m\u001b[1;33m\u001b[0m\u001b[0m\n\u001b[0;32m    283\u001b[0m             \u001b[1;32mraise\u001b[0m \u001b[0mLineTooLong\u001b[0m\u001b[1;33m(\u001b[0m\u001b[1;34m\"status line\"\u001b[0m\u001b[1;33m)\u001b[0m\u001b[1;33m\u001b[0m\u001b[1;33m\u001b[0m\u001b[0m\n",
      "\u001b[1;32m~\\AppData\\Local\\ESRI\\conda\\envs\\my_clone_env\\lib\\socket.py\u001b[0m in \u001b[0;36mreadinto\u001b[1;34m(self, b)\u001b[0m\n\u001b[0;32m    702\u001b[0m         \u001b[1;32mwhile\u001b[0m \u001b[1;32mTrue\u001b[0m\u001b[1;33m:\u001b[0m\u001b[1;33m\u001b[0m\u001b[1;33m\u001b[0m\u001b[0m\n\u001b[0;32m    703\u001b[0m             \u001b[1;32mtry\u001b[0m\u001b[1;33m:\u001b[0m\u001b[1;33m\u001b[0m\u001b[1;33m\u001b[0m\u001b[0m\n\u001b[1;32m--> 704\u001b[1;33m                 \u001b[1;32mreturn\u001b[0m \u001b[0mself\u001b[0m\u001b[1;33m.\u001b[0m\u001b[0m_sock\u001b[0m\u001b[1;33m.\u001b[0m\u001b[0mrecv_into\u001b[0m\u001b[1;33m(\u001b[0m\u001b[0mb\u001b[0m\u001b[1;33m)\u001b[0m\u001b[1;33m\u001b[0m\u001b[1;33m\u001b[0m\u001b[0m\n\u001b[0m\u001b[0;32m    705\u001b[0m             \u001b[1;32mexcept\u001b[0m \u001b[0mtimeout\u001b[0m\u001b[1;33m:\u001b[0m\u001b[1;33m\u001b[0m\u001b[1;33m\u001b[0m\u001b[0m\n\u001b[0;32m    706\u001b[0m                 \u001b[0mself\u001b[0m\u001b[1;33m.\u001b[0m\u001b[0m_timeout_occurred\u001b[0m \u001b[1;33m=\u001b[0m \u001b[1;32mTrue\u001b[0m\u001b[1;33m\u001b[0m\u001b[1;33m\u001b[0m\u001b[0m\n",
      "\u001b[1;32m~\\AppData\\Local\\ESRI\\conda\\envs\\my_clone_env\\lib\\ssl.py\u001b[0m in \u001b[0;36mrecv_into\u001b[1;34m(self, buffer, nbytes, flags)\u001b[0m\n\u001b[0;32m   1240\u001b[0m                   \u001b[1;34m\"non-zero flags not allowed in calls to recv_into() on %s\"\u001b[0m \u001b[1;33m%\u001b[0m\u001b[1;33m\u001b[0m\u001b[1;33m\u001b[0m\u001b[0m\n\u001b[0;32m   1241\u001b[0m                   self.__class__)\n\u001b[1;32m-> 1242\u001b[1;33m             \u001b[1;32mreturn\u001b[0m \u001b[0mself\u001b[0m\u001b[1;33m.\u001b[0m\u001b[0mread\u001b[0m\u001b[1;33m(\u001b[0m\u001b[0mnbytes\u001b[0m\u001b[1;33m,\u001b[0m \u001b[0mbuffer\u001b[0m\u001b[1;33m)\u001b[0m\u001b[1;33m\u001b[0m\u001b[1;33m\u001b[0m\u001b[0m\n\u001b[0m\u001b[0;32m   1243\u001b[0m         \u001b[1;32melse\u001b[0m\u001b[1;33m:\u001b[0m\u001b[1;33m\u001b[0m\u001b[1;33m\u001b[0m\u001b[0m\n\u001b[0;32m   1244\u001b[0m             \u001b[1;32mreturn\u001b[0m \u001b[0msuper\u001b[0m\u001b[1;33m(\u001b[0m\u001b[1;33m)\u001b[0m\u001b[1;33m.\u001b[0m\u001b[0mrecv_into\u001b[0m\u001b[1;33m(\u001b[0m\u001b[0mbuffer\u001b[0m\u001b[1;33m,\u001b[0m \u001b[0mnbytes\u001b[0m\u001b[1;33m,\u001b[0m \u001b[0mflags\u001b[0m\u001b[1;33m)\u001b[0m\u001b[1;33m\u001b[0m\u001b[1;33m\u001b[0m\u001b[0m\n",
      "\u001b[1;32m~\\AppData\\Local\\ESRI\\conda\\envs\\my_clone_env\\lib\\ssl.py\u001b[0m in \u001b[0;36mread\u001b[1;34m(self, len, buffer)\u001b[0m\n\u001b[0;32m   1098\u001b[0m         \u001b[1;32mtry\u001b[0m\u001b[1;33m:\u001b[0m\u001b[1;33m\u001b[0m\u001b[1;33m\u001b[0m\u001b[0m\n\u001b[0;32m   1099\u001b[0m             \u001b[1;32mif\u001b[0m \u001b[0mbuffer\u001b[0m \u001b[1;32mis\u001b[0m \u001b[1;32mnot\u001b[0m \u001b[1;32mNone\u001b[0m\u001b[1;33m:\u001b[0m\u001b[1;33m\u001b[0m\u001b[1;33m\u001b[0m\u001b[0m\n\u001b[1;32m-> 1100\u001b[1;33m                 \u001b[1;32mreturn\u001b[0m \u001b[0mself\u001b[0m\u001b[1;33m.\u001b[0m\u001b[0m_sslobj\u001b[0m\u001b[1;33m.\u001b[0m\u001b[0mread\u001b[0m\u001b[1;33m(\u001b[0m\u001b[0mlen\u001b[0m\u001b[1;33m,\u001b[0m \u001b[0mbuffer\u001b[0m\u001b[1;33m)\u001b[0m\u001b[1;33m\u001b[0m\u001b[1;33m\u001b[0m\u001b[0m\n\u001b[0m\u001b[0;32m   1101\u001b[0m             \u001b[1;32melse\u001b[0m\u001b[1;33m:\u001b[0m\u001b[1;33m\u001b[0m\u001b[1;33m\u001b[0m\u001b[0m\n\u001b[0;32m   1102\u001b[0m                 \u001b[1;32mreturn\u001b[0m \u001b[0mself\u001b[0m\u001b[1;33m.\u001b[0m\u001b[0m_sslobj\u001b[0m\u001b[1;33m.\u001b[0m\u001b[0mread\u001b[0m\u001b[1;33m(\u001b[0m\u001b[0mlen\u001b[0m\u001b[1;33m)\u001b[0m\u001b[1;33m\u001b[0m\u001b[1;33m\u001b[0m\u001b[0m\n",
      "\u001b[1;31mKeyboardInterrupt\u001b[0m: "
     ]
    }
   ],
   "source": [
    "emp_geocoded_add = geopandas.tools.geocode(emp_add[\"Full Address\"], provider = \"nominatim\", user_agent = \"autogis_AK\",timeout=10)"
   ]
  },
  {
   "cell_type": "code",
   "execution_count": null,
   "id": "2428fd27",
   "metadata": {},
   "outputs": [],
   "source": [
    "emp_geocoded_add.head()"
   ]
  },
  {
   "cell_type": "code",
   "execution_count": null,
   "id": "a7833e92",
   "metadata": {},
   "outputs": [],
   "source": [
    "emp_geocoded_add_join = emp_geocoded_add.join(emp_add)"
   ]
  },
  {
   "cell_type": "code",
   "execution_count": null,
   "id": "be8b9068",
   "metadata": {},
   "outputs": [],
   "source": [
    "emp_geocoded_add_join.head()"
   ]
  },
  {
   "cell_type": "code",
   "execution_count": null,
   "id": "8e880e77",
   "metadata": {},
   "outputs": [],
   "source": [
    "type(emp_geocoded_add_join)"
   ]
  },
  {
   "cell_type": "code",
   "execution_count": null,
   "id": "ed6045c9",
   "metadata": {},
   "outputs": [],
   "source": [
    "emp_geocoded_add_join.to_file(r\"C:\\Aditya\\WSP_Office_addresses\\emp_add_geocoded.gpkg\")"
   ]
  },
  {
   "cell_type": "markdown",
   "id": "a8237f28",
   "metadata": {},
   "source": [
    "# Office Addresses"
   ]
  },
  {
   "cell_type": "code",
   "execution_count": null,
   "id": "d1d21b8f",
   "metadata": {},
   "outputs": [],
   "source": [
    "office_add = pd.read_csv(r\"C:\\Aditya\\WSP_Office_addresses\\office_add.csv\")"
   ]
  },
  {
   "cell_type": "code",
   "execution_count": null,
   "id": "bdb1c997",
   "metadata": {},
   "outputs": [],
   "source": [
    "office_add.head()"
   ]
  },
  {
   "cell_type": "code",
   "execution_count": null,
   "id": "34e79e34",
   "metadata": {},
   "outputs": [],
   "source": [
    "import geopandas"
   ]
  },
  {
   "cell_type": "code",
   "execution_count": null,
   "id": "d34e321a",
   "metadata": {},
   "outputs": [],
   "source": [
    "office_add_geocode = geopandas.tools.geocode(office_add[\"Full Address\"], provider = \"nominatim\", user_agent = \"autogis_ak\", timeout=10)"
   ]
  },
  {
   "cell_type": "code",
   "execution_count": null,
   "id": "e5fb5ce2",
   "metadata": {},
   "outputs": [],
   "source": [
    "office_add_geocode.head()"
   ]
  },
  {
   "cell_type": "code",
   "execution_count": null,
   "id": "6d54b05c",
   "metadata": {},
   "outputs": [],
   "source": [
    "len(office_add_geocode)"
   ]
  },
  {
   "cell_type": "code",
   "execution_count": null,
   "id": "d148ddd8",
   "metadata": {},
   "outputs": [],
   "source": [
    "office_add_geocode"
   ]
  },
  {
   "cell_type": "code",
   "execution_count": null,
   "id": "b8aaa0c9",
   "metadata": {},
   "outputs": [],
   "source": [
    "office_add_geocode_join = office_add_geocode.join(office_add)"
   ]
  },
  {
   "cell_type": "code",
   "execution_count": null,
   "id": "34a5b301",
   "metadata": {},
   "outputs": [],
   "source": [
    "office_add_geocode_join"
   ]
  },
  {
   "cell_type": "code",
   "execution_count": null,
   "id": "483e183a",
   "metadata": {},
   "outputs": [],
   "source": [
    "office_add_geocode_join.to_file(r\"C:\\Aditya\\WSP_Office_addresses\\office_add_geocoded.gpkg\")"
   ]
  },
  {
   "cell_type": "code",
   "execution_count": 13,
   "id": "f39953bb",
   "metadata": {},
   "outputs": [],
   "source": [
    "non_geocoded_add = pd.read_csv(r\"C:\\Aditya\\WSP_Office_addresses\\emp_not_geocoded.csv\")"
   ]
  },
  {
   "cell_type": "code",
   "execution_count": 14,
   "id": "90ad3653",
   "metadata": {
    "scrolled": true
   },
   "outputs": [
    {
     "data": {
      "text/html": [
       "<div>\n",
       "<style scoped>\n",
       "    .dataframe tbody tr th:only-of-type {\n",
       "        vertical-align: middle;\n",
       "    }\n",
       "\n",
       "    .dataframe tbody tr th {\n",
       "        vertical-align: top;\n",
       "    }\n",
       "\n",
       "    .dataframe thead th {\n",
       "        text-align: right;\n",
       "    }\n",
       "</style>\n",
       "<table border=\"1\" class=\"dataframe\">\n",
       "  <thead>\n",
       "    <tr style=\"text-align: right;\">\n",
       "      <th></th>\n",
       "      <th>OID_</th>\n",
       "      <th>Employee</th>\n",
       "      <th>Address_Line_1</th>\n",
       "      <th>Suburb</th>\n",
       "      <th>City</th>\n",
       "      <th>Postcode</th>\n",
       "      <th>Country</th>\n",
       "      <th>Full_Address</th>\n",
       "      <th>Address_Type</th>\n",
       "      <th>Office_No</th>\n",
       "      <th>Bus_Route_No</th>\n",
       "      <th>Check</th>\n",
       "      <th>Address_Varified_from_Google_Map</th>\n",
       "      <th>address</th>\n",
       "      <th>Employee_1</th>\n",
       "      <th>Full_Address_1</th>\n",
       "      <th>NEAR_FID</th>\n",
       "      <th>NEAR_DIST</th>\n",
       "      <th>NEAR_X</th>\n",
       "      <th>NEAR_Y</th>\n",
       "    </tr>\n",
       "  </thead>\n",
       "  <tbody>\n",
       "    <tr>\n",
       "      <th>0</th>\n",
       "      <td>10</td>\n",
       "      <td>R-10</td>\n",
       "      <td>275 Innes Road</td>\n",
       "      <td>Amberley</td>\n",
       "      <td>Christchurch</td>\n",
       "      <td>7482</td>\n",
       "      <td>New Zealand</td>\n",
       "      <td>275 Innes Road, Amberley, 7482, New Zealand</td>\n",
       "      <td>Rented</td>\n",
       "      <td>O-8</td>\n",
       "      <td>NaN</td>\n",
       "      <td>OK</td>\n",
       "      <td>NaN</td>\n",
       "      <td>NaN</td>\n",
       "      <td>R-10</td>\n",
       "      <td>275 Innes Road, Amberley, 7482, New Zealand</td>\n",
       "      <td>-1</td>\n",
       "      <td>-1.0</td>\n",
       "      <td>-1.0</td>\n",
       "      <td>-1.0</td>\n",
       "    </tr>\n",
       "    <tr>\n",
       "      <th>1</th>\n",
       "      <td>15</td>\n",
       "      <td>R-15</td>\n",
       "      <td>A610, 2 Munroe Lane</td>\n",
       "      <td>Auckland</td>\n",
       "      <td>Auckland</td>\n",
       "      <td>632</td>\n",
       "      <td>New Zealand</td>\n",
       "      <td>A610, 2 Munroe Lane, Auckland, 632, New Zealand</td>\n",
       "      <td>Rented</td>\n",
       "      <td>O-3</td>\n",
       "      <td>NaN</td>\n",
       "      <td>FALSE</td>\n",
       "      <td>NaN</td>\n",
       "      <td>NaN</td>\n",
       "      <td>R-15</td>\n",
       "      <td>A610, 2 Munroe Lane, Auckland, 632, New Zealand</td>\n",
       "      <td>-1</td>\n",
       "      <td>-1.0</td>\n",
       "      <td>-1.0</td>\n",
       "      <td>-1.0</td>\n",
       "    </tr>\n",
       "    <tr>\n",
       "      <th>2</th>\n",
       "      <td>17</td>\n",
       "      <td>R-17</td>\n",
       "      <td>1354a Whangaparaoa Road</td>\n",
       "      <td>Auckland</td>\n",
       "      <td>Auckland</td>\n",
       "      <td>930</td>\n",
       "      <td>New Zealand</td>\n",
       "      <td>1354a Whangaparaoa Road, Auckland, 930, New Ze...</td>\n",
       "      <td>Rented</td>\n",
       "      <td>O-3</td>\n",
       "      <td>NaN</td>\n",
       "      <td>FALSE</td>\n",
       "      <td>NaN</td>\n",
       "      <td>NaN</td>\n",
       "      <td>R-17</td>\n",
       "      <td>1354a Whangaparaoa Road, Auckland, 930, New Ze...</td>\n",
       "      <td>-1</td>\n",
       "      <td>-1.0</td>\n",
       "      <td>-1.0</td>\n",
       "      <td>-1.0</td>\n",
       "    </tr>\n",
       "    <tr>\n",
       "      <th>3</th>\n",
       "      <td>19</td>\n",
       "      <td>R-19</td>\n",
       "      <td>1405 / 363 Queen St</td>\n",
       "      <td>Auckland</td>\n",
       "      <td>Auckland</td>\n",
       "      <td>1010</td>\n",
       "      <td>New Zealand</td>\n",
       "      <td>1405 / 363 Queen St, Auckland, 1010, New Zealand</td>\n",
       "      <td>Rented</td>\n",
       "      <td>O-3</td>\n",
       "      <td>NaN</td>\n",
       "      <td>FALSE</td>\n",
       "      <td>NaN</td>\n",
       "      <td>NaN</td>\n",
       "      <td>R-19</td>\n",
       "      <td>1405 / 363 Queen St, Auckland, 1010, New Zealand</td>\n",
       "      <td>-1</td>\n",
       "      <td>-1.0</td>\n",
       "      <td>-1.0</td>\n",
       "      <td>-1.0</td>\n",
       "    </tr>\n",
       "    <tr>\n",
       "      <th>4</th>\n",
       "      <td>21</td>\n",
       "      <td>R-21</td>\n",
       "      <td>702B/106 Vincent Street</td>\n",
       "      <td>Auckland</td>\n",
       "      <td>Auckland</td>\n",
       "      <td>1010</td>\n",
       "      <td>New Zealand</td>\n",
       "      <td>702B/106 Vincent Street, Auckland, 1010, New Z...</td>\n",
       "      <td>Rented</td>\n",
       "      <td>O-3</td>\n",
       "      <td>NaN</td>\n",
       "      <td>FALSE</td>\n",
       "      <td>NaN</td>\n",
       "      <td>NaN</td>\n",
       "      <td>R-21</td>\n",
       "      <td>702B/106 Vincent Street, Auckland, 1010, New Z...</td>\n",
       "      <td>-1</td>\n",
       "      <td>-1.0</td>\n",
       "      <td>-1.0</td>\n",
       "      <td>-1.0</td>\n",
       "    </tr>\n",
       "    <tr>\n",
       "      <th>...</th>\n",
       "      <td>...</td>\n",
       "      <td>...</td>\n",
       "      <td>...</td>\n",
       "      <td>...</td>\n",
       "      <td>...</td>\n",
       "      <td>...</td>\n",
       "      <td>...</td>\n",
       "      <td>...</td>\n",
       "      <td>...</td>\n",
       "      <td>...</td>\n",
       "      <td>...</td>\n",
       "      <td>...</td>\n",
       "      <td>...</td>\n",
       "      <td>...</td>\n",
       "      <td>...</td>\n",
       "      <td>...</td>\n",
       "      <td>...</td>\n",
       "      <td>...</td>\n",
       "      <td>...</td>\n",
       "      <td>...</td>\n",
       "    </tr>\n",
       "    <tr>\n",
       "      <th>320</th>\n",
       "      <td>2376</td>\n",
       "      <td>R-2376</td>\n",
       "      <td>168 Rangiora Woodend Roa</td>\n",
       "      <td>Woodend</td>\n",
       "      <td>Christchurch</td>\n",
       "      <td>7610</td>\n",
       "      <td>New Zealand</td>\n",
       "      <td>168 Rangiora Woodend Roa, Woodend, 7610, New Z...</td>\n",
       "      <td>Rented</td>\n",
       "      <td>O-8</td>\n",
       "      <td>NaN</td>\n",
       "      <td>OK</td>\n",
       "      <td>NaN</td>\n",
       "      <td>NaN</td>\n",
       "      <td>R-2376</td>\n",
       "      <td>168 Rangiora Woodend Roa, Woodend, 7610, New Z...</td>\n",
       "      <td>-1</td>\n",
       "      <td>-1.0</td>\n",
       "      <td>-1.0</td>\n",
       "      <td>-1.0</td>\n",
       "    </tr>\n",
       "    <tr>\n",
       "      <th>321</th>\n",
       "      <td>2379</td>\n",
       "      <td>R-2379</td>\n",
       "      <td>133 Robinson Road</td>\n",
       "      <td>Wyndham</td>\n",
       "      <td>Invercargill</td>\n",
       "      <td>9891</td>\n",
       "      <td>New Zealand</td>\n",
       "      <td>133 Robinson Road, Wyndham, 9891, New Zealand</td>\n",
       "      <td>Rented</td>\n",
       "      <td>O-18</td>\n",
       "      <td>NaN</td>\n",
       "      <td>OK</td>\n",
       "      <td>NaN</td>\n",
       "      <td>NaN</td>\n",
       "      <td>R-2379</td>\n",
       "      <td>133 Robinson Road, Wyndham, 9891, New Zealand</td>\n",
       "      <td>-1</td>\n",
       "      <td>-1.0</td>\n",
       "      <td>-1.0</td>\n",
       "      <td>-1.0</td>\n",
       "    </tr>\n",
       "    <tr>\n",
       "      <th>322</th>\n",
       "      <td>2391</td>\n",
       "      <td>R-2391</td>\n",
       "      <td>13 Mcmillan Road</td>\n",
       "      <td>Garston</td>\n",
       "      <td>Queenstown</td>\n",
       "      <td>9750</td>\n",
       "      <td>New Zealand</td>\n",
       "      <td>13 Mcmillan Road, Garston, 9750, New Zealand</td>\n",
       "      <td>Rented</td>\n",
       "      <td>O-27</td>\n",
       "      <td>NaN</td>\n",
       "      <td>OK</td>\n",
       "      <td>NaN</td>\n",
       "      <td>NaN</td>\n",
       "      <td>R-2391</td>\n",
       "      <td>13 Mcmillan Road, Garston, 9750, New Zealand</td>\n",
       "      <td>-1</td>\n",
       "      <td>-1.0</td>\n",
       "      <td>-1.0</td>\n",
       "      <td>-1.0</td>\n",
       "    </tr>\n",
       "    <tr>\n",
       "      <th>323</th>\n",
       "      <td>2394</td>\n",
       "      <td>R-2394</td>\n",
       "      <td>42 Power Road</td>\n",
       "      <td>GREYMOUTH</td>\n",
       "      <td>Greymouth</td>\n",
       "      <td>7805</td>\n",
       "      <td>New Zealand</td>\n",
       "      <td>42 Power Road, GREYMOUTH, 7805, New Zealand</td>\n",
       "      <td>Rented</td>\n",
       "      <td>O-15</td>\n",
       "      <td>NaN</td>\n",
       "      <td>FALSE</td>\n",
       "      <td>NaN</td>\n",
       "      <td>NaN</td>\n",
       "      <td>R-2394</td>\n",
       "      <td>42 Power Road, GREYMOUTH, 7805, New Zealand</td>\n",
       "      <td>-1</td>\n",
       "      <td>-1.0</td>\n",
       "      <td>-1.0</td>\n",
       "      <td>-1.0</td>\n",
       "    </tr>\n",
       "    <tr>\n",
       "      <th>324</th>\n",
       "      <td>2409</td>\n",
       "      <td>R-2409</td>\n",
       "      <td>116b Ranch Road</td>\n",
       "      <td>MOUNT MAUNGANUI</td>\n",
       "      <td>Tauranga</td>\n",
       "      <td>3116</td>\n",
       "      <td>New Zealand</td>\n",
       "      <td>116b Ranch Road, MOUNT MAUNGANUI, 3116, New Ze...</td>\n",
       "      <td>Rented</td>\n",
       "      <td>O-32</td>\n",
       "      <td>NaN</td>\n",
       "      <td>OK</td>\n",
       "      <td>NaN</td>\n",
       "      <td>NaN</td>\n",
       "      <td>R-2409</td>\n",
       "      <td>116b Ranch Road, MOUNT MAUNGANUI, 3116, New Ze...</td>\n",
       "      <td>-1</td>\n",
       "      <td>-1.0</td>\n",
       "      <td>-1.0</td>\n",
       "      <td>-1.0</td>\n",
       "    </tr>\n",
       "  </tbody>\n",
       "</table>\n",
       "<p>325 rows × 20 columns</p>\n",
       "</div>"
      ],
      "text/plain": [
       "     OID_ Employee            Address_Line_1           Suburb          City  \\\n",
       "0      10     R-10            275 Innes Road         Amberley  Christchurch   \n",
       "1      15     R-15       A610, 2 Munroe Lane         Auckland      Auckland   \n",
       "2      17     R-17   1354a Whangaparaoa Road         Auckland      Auckland   \n",
       "3      19     R-19       1405 / 363 Queen St         Auckland      Auckland   \n",
       "4      21     R-21   702B/106 Vincent Street         Auckland      Auckland   \n",
       "..    ...      ...                       ...              ...           ...   \n",
       "320  2376   R-2376  168 Rangiora Woodend Roa          Woodend  Christchurch   \n",
       "321  2379   R-2379         133 Robinson Road          Wyndham  Invercargill   \n",
       "322  2391   R-2391          13 Mcmillan Road          Garston    Queenstown   \n",
       "323  2394   R-2394             42 Power Road        GREYMOUTH     Greymouth   \n",
       "324  2409   R-2409           116b Ranch Road  MOUNT MAUNGANUI      Tauranga   \n",
       "\n",
       "     Postcode      Country                                       Full_Address  \\\n",
       "0        7482  New Zealand        275 Innes Road, Amberley, 7482, New Zealand   \n",
       "1         632  New Zealand    A610, 2 Munroe Lane, Auckland, 632, New Zealand   \n",
       "2         930  New Zealand  1354a Whangaparaoa Road, Auckland, 930, New Ze...   \n",
       "3        1010  New Zealand   1405 / 363 Queen St, Auckland, 1010, New Zealand   \n",
       "4        1010  New Zealand  702B/106 Vincent Street, Auckland, 1010, New Z...   \n",
       "..        ...          ...                                                ...   \n",
       "320      7610  New Zealand  168 Rangiora Woodend Roa, Woodend, 7610, New Z...   \n",
       "321      9891  New Zealand      133 Robinson Road, Wyndham, 9891, New Zealand   \n",
       "322      9750  New Zealand       13 Mcmillan Road, Garston, 9750, New Zealand   \n",
       "323      7805  New Zealand        42 Power Road, GREYMOUTH, 7805, New Zealand   \n",
       "324      3116  New Zealand  116b Ranch Road, MOUNT MAUNGANUI, 3116, New Ze...   \n",
       "\n",
       "    Address_Type Office_No  Bus_Route_No  Check  \\\n",
       "0         Rented       O-8           NaN     OK   \n",
       "1         Rented       O-3           NaN  FALSE   \n",
       "2         Rented       O-3           NaN  FALSE   \n",
       "3         Rented       O-3           NaN  FALSE   \n",
       "4         Rented       O-3           NaN  FALSE   \n",
       "..           ...       ...           ...    ...   \n",
       "320       Rented       O-8           NaN     OK   \n",
       "321       Rented      O-18           NaN     OK   \n",
       "322       Rented      O-27           NaN     OK   \n",
       "323       Rented      O-15           NaN  FALSE   \n",
       "324       Rented      O-32           NaN     OK   \n",
       "\n",
       "     Address_Varified_from_Google_Map  address Employee_1  \\\n",
       "0                                 NaN      NaN       R-10   \n",
       "1                                 NaN      NaN       R-15   \n",
       "2                                 NaN      NaN       R-17   \n",
       "3                                 NaN      NaN       R-19   \n",
       "4                                 NaN      NaN       R-21   \n",
       "..                                ...      ...        ...   \n",
       "320                               NaN      NaN     R-2376   \n",
       "321                               NaN      NaN     R-2379   \n",
       "322                               NaN      NaN     R-2391   \n",
       "323                               NaN      NaN     R-2394   \n",
       "324                               NaN      NaN     R-2409   \n",
       "\n",
       "                                        Full_Address_1  NEAR_FID  NEAR_DIST  \\\n",
       "0          275 Innes Road, Amberley, 7482, New Zealand        -1       -1.0   \n",
       "1      A610, 2 Munroe Lane, Auckland, 632, New Zealand        -1       -1.0   \n",
       "2    1354a Whangaparaoa Road, Auckland, 930, New Ze...        -1       -1.0   \n",
       "3     1405 / 363 Queen St, Auckland, 1010, New Zealand        -1       -1.0   \n",
       "4    702B/106 Vincent Street, Auckland, 1010, New Z...        -1       -1.0   \n",
       "..                                                 ...       ...        ...   \n",
       "320  168 Rangiora Woodend Roa, Woodend, 7610, New Z...        -1       -1.0   \n",
       "321      133 Robinson Road, Wyndham, 9891, New Zealand        -1       -1.0   \n",
       "322       13 Mcmillan Road, Garston, 9750, New Zealand        -1       -1.0   \n",
       "323        42 Power Road, GREYMOUTH, 7805, New Zealand        -1       -1.0   \n",
       "324  116b Ranch Road, MOUNT MAUNGANUI, 3116, New Ze...        -1       -1.0   \n",
       "\n",
       "     NEAR_X  NEAR_Y  \n",
       "0      -1.0    -1.0  \n",
       "1      -1.0    -1.0  \n",
       "2      -1.0    -1.0  \n",
       "3      -1.0    -1.0  \n",
       "4      -1.0    -1.0  \n",
       "..      ...     ...  \n",
       "320    -1.0    -1.0  \n",
       "321    -1.0    -1.0  \n",
       "322    -1.0    -1.0  \n",
       "323    -1.0    -1.0  \n",
       "324    -1.0    -1.0  \n",
       "\n",
       "[325 rows x 20 columns]"
      ]
     },
     "execution_count": 14,
     "metadata": {},
     "output_type": "execute_result"
    }
   ],
   "source": [
    "non_geocoded_add"
   ]
  },
  {
   "cell_type": "code",
   "execution_count": 15,
   "id": "bb578837",
   "metadata": {},
   "outputs": [
    {
     "ename": "NameError",
     "evalue": "name 'update_address' is not defined",
     "output_type": "error",
     "traceback": [
      "\u001b[1;31m---------------------------------------------------------------------------\u001b[0m",
      "\u001b[1;31mNameError\u001b[0m                                 Traceback (most recent call last)",
      "\u001b[1;32m~\\AppData\\Local\\Temp\\ipykernel_22832\\3349489939.py\u001b[0m in \u001b[0;36m<cell line: 1>\u001b[1;34m()\u001b[0m\n\u001b[1;32m----> 1\u001b[1;33m \u001b[0mnon_geocoded_add\u001b[0m\u001b[1;33m[\u001b[0m\u001b[1;34m\"Address Fixed\"\u001b[0m\u001b[1;33m]\u001b[0m \u001b[1;33m=\u001b[0m \u001b[0mnon_geocoded_add\u001b[0m\u001b[1;33m.\u001b[0m\u001b[0mapply\u001b[0m\u001b[1;33m(\u001b[0m\u001b[0mupdate_address\u001b[0m\u001b[1;33m,\u001b[0m \u001b[0maxis\u001b[0m\u001b[1;33m=\u001b[0m\u001b[1;36m1\u001b[0m\u001b[1;33m)\u001b[0m\u001b[1;33m\u001b[0m\u001b[1;33m\u001b[0m\u001b[0m\n\u001b[0m",
      "\u001b[1;31mNameError\u001b[0m: name 'update_address' is not defined"
     ]
    }
   ],
   "source": []
  }
 ],
 "metadata": {
  "kernelspec": {
   "display_name": "Python 3 (ipykernel)",
   "language": "python",
   "name": "python3"
  },
  "language_info": {
   "codemirror_mode": {
    "name": "ipython",
    "version": 3
   },
   "file_extension": ".py",
   "mimetype": "text/x-python",
   "name": "python",
   "nbconvert_exporter": "python",
   "pygments_lexer": "ipython3",
   "version": "3.9.18"
  }
 },
 "nbformat": 4,
 "nbformat_minor": 5
}
